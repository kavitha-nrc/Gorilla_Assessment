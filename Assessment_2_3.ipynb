{
  "nbformat": 4,
  "nbformat_minor": 0,
  "metadata": {
    "colab": {
      "provenance": []
    },
    "kernelspec": {
      "name": "python3",
      "display_name": "Python 3"
    },
    "language_info": {
      "name": "python"
    }
  },
  "cells": [
    {
      "cell_type": "code",
      "source": [
        "import pandas as pd\n",
        "import numpy as np"
      ],
      "metadata": {
        "id": "ODhEl1lStAMd"
      },
      "execution_count": null,
      "outputs": []
    },
    {
      "cell_type": "markdown",
      "source": [
        "Question 2"
      ],
      "metadata": {
        "id": "4fQI_DtmtHZS"
      }
    },
    {
      "cell_type": "code",
      "execution_count": 4,
      "metadata": {
        "id": "L5kJK7fzeZn3",
        "outputId": "795043c3-87de-4e46-f0f3-197cc5028951",
        "colab": {
          "base_uri": "https://localhost:8080/",
          "height": 363
        }
      },
      "outputs": [
        {
          "output_type": "execute_result",
          "data": {
            "text/plain": [
              "   meter_id  aq_kwh exit_zone\n",
              "0    878119   31214       SE2\n",
              "1    997526   52906       EA1\n",
              "2    140449   19042       NT1\n",
              "3    884376   81571       NT1\n",
              "4    248224   40113       SE2\n",
              "5    309739   80437       NT1\n",
              "6    761001   36578       NT1\n",
              "7    289013   49027       NT1\n",
              "8    438507   77397       EA1\n",
              "9    405344   18365       SO1"
            ],
            "text/html": [
              "\n",
              "  <div id=\"df-a0619e3d-7138-4bda-86b3-a2591ecd0da8\">\n",
              "    <div class=\"colab-df-container\">\n",
              "      <div>\n",
              "<style scoped>\n",
              "    .dataframe tbody tr th:only-of-type {\n",
              "        vertical-align: middle;\n",
              "    }\n",
              "\n",
              "    .dataframe tbody tr th {\n",
              "        vertical-align: top;\n",
              "    }\n",
              "\n",
              "    .dataframe thead th {\n",
              "        text-align: right;\n",
              "    }\n",
              "</style>\n",
              "<table border=\"1\" class=\"dataframe\">\n",
              "  <thead>\n",
              "    <tr style=\"text-align: right;\">\n",
              "      <th></th>\n",
              "      <th>meter_id</th>\n",
              "      <th>aq_kwh</th>\n",
              "      <th>exit_zone</th>\n",
              "    </tr>\n",
              "  </thead>\n",
              "  <tbody>\n",
              "    <tr>\n",
              "      <th>0</th>\n",
              "      <td>878119</td>\n",
              "      <td>31214</td>\n",
              "      <td>SE2</td>\n",
              "    </tr>\n",
              "    <tr>\n",
              "      <th>1</th>\n",
              "      <td>997526</td>\n",
              "      <td>52906</td>\n",
              "      <td>EA1</td>\n",
              "    </tr>\n",
              "    <tr>\n",
              "      <th>2</th>\n",
              "      <td>140449</td>\n",
              "      <td>19042</td>\n",
              "      <td>NT1</td>\n",
              "    </tr>\n",
              "    <tr>\n",
              "      <th>3</th>\n",
              "      <td>884376</td>\n",
              "      <td>81571</td>\n",
              "      <td>NT1</td>\n",
              "    </tr>\n",
              "    <tr>\n",
              "      <th>4</th>\n",
              "      <td>248224</td>\n",
              "      <td>40113</td>\n",
              "      <td>SE2</td>\n",
              "    </tr>\n",
              "    <tr>\n",
              "      <th>5</th>\n",
              "      <td>309739</td>\n",
              "      <td>80437</td>\n",
              "      <td>NT1</td>\n",
              "    </tr>\n",
              "    <tr>\n",
              "      <th>6</th>\n",
              "      <td>761001</td>\n",
              "      <td>36578</td>\n",
              "      <td>NT1</td>\n",
              "    </tr>\n",
              "    <tr>\n",
              "      <th>7</th>\n",
              "      <td>289013</td>\n",
              "      <td>49027</td>\n",
              "      <td>NT1</td>\n",
              "    </tr>\n",
              "    <tr>\n",
              "      <th>8</th>\n",
              "      <td>438507</td>\n",
              "      <td>77397</td>\n",
              "      <td>EA1</td>\n",
              "    </tr>\n",
              "    <tr>\n",
              "      <th>9</th>\n",
              "      <td>405344</td>\n",
              "      <td>18365</td>\n",
              "      <td>SO1</td>\n",
              "    </tr>\n",
              "  </tbody>\n",
              "</table>\n",
              "</div>\n",
              "      <button class=\"colab-df-convert\" onclick=\"convertToInteractive('df-a0619e3d-7138-4bda-86b3-a2591ecd0da8')\"\n",
              "              title=\"Convert this dataframe to an interactive table.\"\n",
              "              style=\"display:none;\">\n",
              "        \n",
              "  <svg xmlns=\"http://www.w3.org/2000/svg\" height=\"24px\"viewBox=\"0 0 24 24\"\n",
              "       width=\"24px\">\n",
              "    <path d=\"M0 0h24v24H0V0z\" fill=\"none\"/>\n",
              "    <path d=\"M18.56 5.44l.94 2.06.94-2.06 2.06-.94-2.06-.94-.94-2.06-.94 2.06-2.06.94zm-11 1L8.5 8.5l.94-2.06 2.06-.94-2.06-.94L8.5 2.5l-.94 2.06-2.06.94zm10 10l.94 2.06.94-2.06 2.06-.94-2.06-.94-.94-2.06-.94 2.06-2.06.94z\"/><path d=\"M17.41 7.96l-1.37-1.37c-.4-.4-.92-.59-1.43-.59-.52 0-1.04.2-1.43.59L10.3 9.45l-7.72 7.72c-.78.78-.78 2.05 0 2.83L4 21.41c.39.39.9.59 1.41.59.51 0 1.02-.2 1.41-.59l7.78-7.78 2.81-2.81c.8-.78.8-2.07 0-2.86zM5.41 20L4 18.59l7.72-7.72 1.47 1.35L5.41 20z\"/>\n",
              "  </svg>\n",
              "      </button>\n",
              "      \n",
              "  <style>\n",
              "    .colab-df-container {\n",
              "      display:flex;\n",
              "      flex-wrap:wrap;\n",
              "      gap: 12px;\n",
              "    }\n",
              "\n",
              "    .colab-df-convert {\n",
              "      background-color: #E8F0FE;\n",
              "      border: none;\n",
              "      border-radius: 50%;\n",
              "      cursor: pointer;\n",
              "      display: none;\n",
              "      fill: #1967D2;\n",
              "      height: 32px;\n",
              "      padding: 0 0 0 0;\n",
              "      width: 32px;\n",
              "    }\n",
              "\n",
              "    .colab-df-convert:hover {\n",
              "      background-color: #E2EBFA;\n",
              "      box-shadow: 0px 1px 2px rgba(60, 64, 67, 0.3), 0px 1px 3px 1px rgba(60, 64, 67, 0.15);\n",
              "      fill: #174EA6;\n",
              "    }\n",
              "\n",
              "    [theme=dark] .colab-df-convert {\n",
              "      background-color: #3B4455;\n",
              "      fill: #D2E3FC;\n",
              "    }\n",
              "\n",
              "    [theme=dark] .colab-df-convert:hover {\n",
              "      background-color: #434B5C;\n",
              "      box-shadow: 0px 1px 3px 1px rgba(0, 0, 0, 0.15);\n",
              "      filter: drop-shadow(0px 1px 2px rgba(0, 0, 0, 0.3));\n",
              "      fill: #FFFFFF;\n",
              "    }\n",
              "  </style>\n",
              "\n",
              "      <script>\n",
              "        const buttonEl =\n",
              "          document.querySelector('#df-a0619e3d-7138-4bda-86b3-a2591ecd0da8 button.colab-df-convert');\n",
              "        buttonEl.style.display =\n",
              "          google.colab.kernel.accessAllowed ? 'block' : 'none';\n",
              "\n",
              "        async function convertToInteractive(key) {\n",
              "          const element = document.querySelector('#df-a0619e3d-7138-4bda-86b3-a2591ecd0da8');\n",
              "          const dataTable =\n",
              "            await google.colab.kernel.invokeFunction('convertToInteractive',\n",
              "                                                     [key], {});\n",
              "          if (!dataTable) return;\n",
              "\n",
              "          const docLinkHtml = 'Like what you see? Visit the ' +\n",
              "            '<a target=\"_blank\" href=https://colab.research.google.com/notebooks/data_table.ipynb>data table notebook</a>'\n",
              "            + ' to learn more about interactive tables.';\n",
              "          element.innerHTML = '';\n",
              "          dataTable['output_type'] = 'display_data';\n",
              "          await google.colab.output.renderOutput(dataTable, element);\n",
              "          const docLink = document.createElement('div');\n",
              "          docLink.innerHTML = docLinkHtml;\n",
              "          element.appendChild(docLink);\n",
              "        }\n",
              "      </script>\n",
              "    </div>\n",
              "  </div>\n",
              "  "
            ]
          },
          "metadata": {},
          "execution_count": 4
        }
      ],
      "source": [
        "def createMeterDF():\n",
        "  EZone_list = ('EA1','SO1','NT1','SE2')\n",
        "  meter_id = np.random.randint(100000,1000000,size=(10))\n",
        "  aq_kwh = np.random.randint(10000,100000,size=(10))\n",
        "  exit_zone = np.random.choice(EZone_list,size=(10))\n",
        "  df = pd.DataFrame(zip(meter_id,aq_kwh,exit_zone),columns=('meter_id','aq_kwh','exit_zone'))\n",
        "  return df\n",
        "\n",
        "df = createMeterDF()\n",
        "df"
      ]
    },
    {
      "cell_type": "markdown",
      "source": [
        "Question 3"
      ],
      "metadata": {
        "id": "QZbTUWr3tKav"
      }
    },
    {
      "cell_type": "code",
      "source": [
        "%%time\n",
        "def createConsumptionDF():\n",
        "  meter_list = pd.DataFrame(np.random.randint(100000,200000,size=4),columns=['meter_id'])\n",
        "  date_list = pd.date_range(start='2021/1/1',periods=5)\n",
        "  dl_frame = date_list.to_frame(index=False,name='date')\n",
        "  meter_list['tmp'] = 1\n",
        "  dl_frame['tmp'] = 1\n",
        "  df = pd.merge(meter_list,dl_frame,on=['tmp'])\n",
        "  df['tmp'] = df['tmp'].apply(lambda x : np.random.randint(10,100))\n",
        "  df.rename(columns={'tmp':'kwh'},inplace=True)\n",
        "  print(df)\n",
        "\n",
        "createConsumptionDF()"
      ],
      "metadata": {
        "id": "gkRbq1j8s-vu",
        "outputId": "0a30b143-5814-4961-ca7e-0ee8d3cd5bf3",
        "colab": {
          "base_uri": "https://localhost:8080/"
        }
      },
      "execution_count": null,
      "outputs": [
        {
          "output_type": "stream",
          "name": "stdout",
          "text": [
            "    meter_id  kwh       date\n",
            "0     193612   39 2021-01-01\n",
            "1     193612   96 2021-01-02\n",
            "2     193612   12 2021-01-03\n",
            "3     193612   37 2021-01-04\n",
            "4     193612   20 2021-01-05\n",
            "5     111449   67 2021-01-01\n",
            "6     111449   96 2021-01-02\n",
            "7     111449   12 2021-01-03\n",
            "8     111449   86 2021-01-04\n",
            "9     111449   41 2021-01-05\n",
            "10    144355   76 2021-01-01\n",
            "11    144355   77 2021-01-02\n",
            "12    144355   53 2021-01-03\n",
            "13    144355   49 2021-01-04\n",
            "14    144355   20 2021-01-05\n",
            "15    152352   18 2021-01-01\n",
            "16    152352   80 2021-01-02\n",
            "17    152352   18 2021-01-03\n",
            "18    152352   88 2021-01-04\n",
            "19    152352   31 2021-01-05\n",
            "CPU times: user 18.6 ms, sys: 2.09 ms, total: 20.6 ms\n",
            "Wall time: 60.7 ms\n"
          ]
        }
      ]
    }
  ]
}