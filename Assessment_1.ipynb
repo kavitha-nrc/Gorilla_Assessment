{
  "nbformat": 4,
  "nbformat_minor": 0,
  "metadata": {
    "colab": {
      "provenance": []
    },
    "kernelspec": {
      "name": "python3",
      "display_name": "Python 3"
    },
    "language_info": {
      "name": "python"
    }
  },
  "cells": [
    {
      "cell_type": "code",
      "execution_count": 1,
      "metadata": {
        "id": "ZhPWSTG1bHcg"
      },
      "outputs": [],
      "source": [
        "import pandas as pd\n",
        "import numpy as np"
      ]
    },
    {
      "cell_type": "code",
      "source": [
        "%%timeit\n",
        "#Reading the file\n",
        "xlsx = pd.ExcelFile(\"gorilla_test_data.xlsx\")\n",
        "meter_df = xlsx.parse(sheet_name=0)\n",
        "forecast_df = xlsx.parse(sheet_name=1,parse_dates=True)\n",
        "rate_df = xlsx.parse(sheet_name=2,parse_dates=True)\n",
        "#Final dataframe structure\n",
        "total_df = pd.DataFrame({'meter_id': meter_df['meter_id'],\n",
        "                         'Total Estimated Consumption (kwh)' : pd.Series(dtype='float'),\n",
        "                         'Total Cost (£)': pd.Series(dtype='float')\n",
        "                         })\n",
        "# Filtering the rate table\n",
        "rate_df.dropna(axis=0,inplace=True)\n",
        "rate_df.dropna(axis=0,inplace=True)\n",
        "aq_dict = dict(zip(meter_df['exit_zone'],meter_df['aq_kwh']))\n",
        "rate_df['aq_kwh'] = rate_df['exit_zone'].map(aq_dict)\n",
        "updated_rate = rate_df[(rate_df['aq_min_kwh'] <= rate_df['aq_kwh']) &\n",
        "                     (rate_df['aq_max_kwh'] > rate_df['aq_kwh'])\n",
        "                    ]\n",
        "final_rate = updated_rate.drop(['aq_min_kwh','aq_max_kwh','aq_kwh'],axis=1)\n",
        "ez_dict = dict(zip(meter_df['meter_id'],meter_df['exit_zone']))\n",
        "# Reshaping the forecast and rate table\n",
        "f_pivot = forecast_df.pivot(index='date',columns='meter_id',values='kwh')\n",
        "r_pivot = final_rate.pivot(index='date',columns='exit_zone',values='rate_p_per_kwh')\n",
        "r_sampled = r_pivot.asfreq(freq='d').ffill()\n",
        "#Finding the final forecast table\n",
        "m_df = f_pivot.merge(r_sampled,how='inner',on='date')\n",
        "#Finding Total dataframe\n",
        "for id,ez in ez_dict.items():\n",
        "  aq = m_df[id].values\n",
        "  rate = m_df[ez].values\n",
        "  total_df['Total Estimated Consumption (kwh)'] = np.where(total_df['meter_id'] == id ,(aq.sum()).round(2),total_df['Total Estimated Consumption (kwh)'])\n",
        "  total_df['Total Cost (£)'] = np.where(total_df['meter_id'] == id ,((np.dot(aq,rate))*.01).round(2),total_df['Total Cost (£)'])\n",
        "\n",
        "print(total_df)"
      ],
      "metadata": {
        "colab": {
          "base_uri": "https://localhost:8080/"
        },
        "id": "dyYv3JIKDaoZ",
        "outputId": "c1bb3ffb-139f-4d71-f154-6bb58b425ab6"
      },
      "execution_count": 3,
      "outputs": [
        {
          "output_type": "stream",
          "name": "stdout",
          "text": [
            "   meter_id  Total Estimated Consumption (kwh)  Total Cost (£)\n",
            "0  14676236                            28978.0          100.15\n",
            "1  34509937                            78324.0          275.49\n",
            "2  50264822                           265667.0          731.24\n",
            "3  88357331                           484399.0         1433.16\n",
            "   meter_id  Total Estimated Consumption (kwh)  Total Cost (£)\n",
            "0  14676236                            28978.0          100.15\n",
            "1  34509937                            78324.0          275.49\n",
            "2  50264822                           265667.0          731.24\n",
            "3  88357331                           484399.0         1433.16\n",
            "   meter_id  Total Estimated Consumption (kwh)  Total Cost (£)\n",
            "0  14676236                            28978.0          100.15\n",
            "1  34509937                            78324.0          275.49\n",
            "2  50264822                           265667.0          731.24\n",
            "3  88357331                           484399.0         1433.16\n",
            "   meter_id  Total Estimated Consumption (kwh)  Total Cost (£)\n",
            "0  14676236                            28978.0          100.15\n",
            "1  34509937                            78324.0          275.49\n",
            "2  50264822                           265667.0          731.24\n",
            "3  88357331                           484399.0         1433.16\n",
            "   meter_id  Total Estimated Consumption (kwh)  Total Cost (£)\n",
            "0  14676236                            28978.0          100.15\n",
            "1  34509937                            78324.0          275.49\n",
            "2  50264822                           265667.0          731.24\n",
            "3  88357331                           484399.0         1433.16\n",
            "   meter_id  Total Estimated Consumption (kwh)  Total Cost (£)\n",
            "0  14676236                            28978.0          100.15\n",
            "1  34509937                            78324.0          275.49\n",
            "2  50264822                           265667.0          731.24\n",
            "3  88357331                           484399.0         1433.16\n",
            "   meter_id  Total Estimated Consumption (kwh)  Total Cost (£)\n",
            "0  14676236                            28978.0          100.15\n",
            "1  34509937                            78324.0          275.49\n",
            "2  50264822                           265667.0          731.24\n",
            "3  88357331                           484399.0         1433.16\n",
            "   meter_id  Total Estimated Consumption (kwh)  Total Cost (£)\n",
            "0  14676236                            28978.0          100.15\n",
            "1  34509937                            78324.0          275.49\n",
            "2  50264822                           265667.0          731.24\n",
            "3  88357331                           484399.0         1433.16\n",
            "313 ms ± 13.6 ms per loop (mean ± std. dev. of 7 runs, 1 loop each)\n"
          ]
        }
      ]
    }
  ]
}